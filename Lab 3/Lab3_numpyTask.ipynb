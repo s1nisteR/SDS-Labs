{
 "cells": [
  {
   "cell_type": "markdown",
   "metadata": {
    "id": "5uid_GD1bpPj"
   },
   "source": [
    "Problem 1: Convert the following 1-D array with 12 elements into a 2-D array. The outermost dimension will have 2 arrays, each with 6 elements:"
   ]
  },
  {
   "cell_type": "code",
   "execution_count": 5,
   "metadata": {
    "id": "rsNDUm6xb3U8"
   },
   "outputs": [
    {
     "name": "stdout",
     "output_type": "stream",
     "text": [
      "[[ 1  2  3  4  5  6]\n",
      " [ 7  8  9 10 11 12]]\n"
     ]
    }
   ],
   "source": [
    "import numpy as np\n",
    "\n",
    "arr = np.array([1, 2, 3, 4, 5, 6, 7, 8, 9, 10, 11, 12])\n",
    "#code here\n",
    "newArr = arr.reshape(2, 6)\n",
    "print(newArr)"
   ]
  },
  {
   "cell_type": "markdown",
   "metadata": {
    "id": "zxSPmBPvcwtR"
   },
   "source": [
    "Problem 2: Convert the following 1-D array into a 3d Array with 1 X 3 elements"
   ]
  },
  {
   "cell_type": "code",
   "execution_count": 12,
   "metadata": {
    "id": "YAwiZucbc6Ig"
   },
   "outputs": [
    {
     "name": "stdout",
     "output_type": "stream",
     "text": [
      "[[[ 1  2  3  4]\n",
      "  [ 5  6  7  8]\n",
      "  [ 9 10 11 12]]]\n"
     ]
    }
   ],
   "source": [
    "import numpy as np\n",
    "\n",
    "arr = np.array([1, 2, 3, 4, 5, 6, 7, 8, 9, 10, 11, 12])\n",
    "#code here\n",
    "newArr = arr.reshape(1, 3, -1)\n",
    "print(newArr)"
   ]
  },
  {
   "cell_type": "markdown",
   "metadata": {
    "id": "NPvTPz4sddZL"
   },
   "source": [
    "Problem 3: Iterate on the elements of the following 3-D array and add 12 if the number is odd and substract -12 if the number is even and print it.\n"
   ]
  },
  {
   "cell_type": "code",
   "execution_count": 18,
   "metadata": {
    "id": "VzKOXha5dyqu"
   },
   "outputs": [
    {
     "name": "stdout",
     "output_type": "stream",
     "text": [
      "13\n",
      "14\n",
      "15\n",
      "16\n",
      "17\n",
      "18\n",
      "19\n",
      "20\n",
      "21\n",
      "22\n",
      "23\n",
      "24\n"
     ]
    }
   ],
   "source": [
    "import numpy as np\n",
    "arr = np.array([[[1, 2, 3], [4, 5, 6]], [[7, 8, 9], [10, 11, 12]]])\n",
    "#code here\n",
    "for x in np.nditer(arr):\n",
    "    if x % 2 != 0:    #if the number is odd\n",
    "        print(x + 12)\n",
    "    else:             #if the number is even\n",
    "        print(x - (-12))"
   ]
  },
  {
   "cell_type": "markdown",
   "metadata": {
    "id": "NI3eNJsiettQ"
   },
   "source": [
    "Problem 4 : Join two 2-D arrays along rows (axis=1):"
   ]
  },
  {
   "cell_type": "code",
   "execution_count": 25,
   "metadata": {
    "id": "y47_OkRFeTFZ"
   },
   "outputs": [
    {
     "name": "stdout",
     "output_type": "stream",
     "text": [
      "[[  1   2   5   6]\n",
      " [  3   4   7   8]\n",
      " [  5   6  70  80]\n",
      " [  7   8  90 100]\n",
      " [  9  10 110 120]]\n"
     ]
    }
   ],
   "source": [
    "import numpy as np\n",
    "\n",
    "arr1 = np.array([[1, 2], [3, 4],[5,6],[7,8],[9,10]])\n",
    "\n",
    "arr2 = np.array([[5, 6], [7, 8],[70,80],[90,100],[110,120]])\n",
    "\n",
    "#code here\n",
    "arr = np.concatenate((arr1, arr2), axis=1)\n",
    "print(arr)"
   ]
  },
  {
   "cell_type": "markdown",
   "metadata": {
    "id": "Q4DHdBHWfCch"
   },
   "source": [
    "Problem 5 : Stack two 2-D Array along columns"
   ]
  },
  {
   "cell_type": "code",
   "execution_count": 27,
   "metadata": {
    "id": "5kqhpSHQfHxg"
   },
   "outputs": [
    {
     "name": "stdout",
     "output_type": "stream",
     "text": [
      "[[  1   2]\n",
      " [  3   4]\n",
      " [  5   6]\n",
      " [  7   8]\n",
      " [  9  10]\n",
      " [  5   6]\n",
      " [  7   8]\n",
      " [ 70  80]\n",
      " [ 90 100]\n",
      " [110 120]]\n"
     ]
    }
   ],
   "source": [
    "import numpy as np\n",
    "\n",
    "arr1 = np.array([[1, 2], [3, 4],[5,6],[7,8],[9,10]])\n",
    "\n",
    "arr2 = np.array([[5, 6], [7, 8],[70,80],[90,100],[110,120]])\n",
    "#code here\n",
    "arr = np.vstack((arr1, arr2))\n",
    "print(arr)"
   ]
  },
  {
   "cell_type": "markdown",
   "metadata": {
    "id": "T5NDOry3foHQ"
   },
   "source": [
    "Problem 5 : Stack two 2-D Array along depth"
   ]
  },
  {
   "cell_type": "code",
   "execution_count": 52,
   "metadata": {
    "id": "LBCfdO56fnOB"
   },
   "outputs": [
    {
     "name": "stdout",
     "output_type": "stream",
     "text": [
      "[[[  1   5]\n",
      "  [  2   6]]\n",
      "\n",
      " [[  3   7]\n",
      "  [  4   8]]\n",
      "\n",
      " [[  5  70]\n",
      "  [  6  80]]\n",
      "\n",
      " [[  7  90]\n",
      "  [  8 100]]\n",
      "\n",
      " [[  9 110]\n",
      "  [ 10 120]]]\n"
     ]
    }
   ],
   "source": [
    "import numpy as np\n",
    "\n",
    "arr1 = np.array([[1, 2], [3, 4],[5,6],[7,8],[9,10]])\n",
    "\n",
    "arr2 = np.array([[5, 6], [7, 8],[70,80],[90,100],[110,120]])\n",
    "#code here\n",
    "arr = np.dstack((arr1, arr2))\n",
    "print(arr)"
   ]
  },
  {
   "cell_type": "markdown",
   "metadata": {
    "id": "vNArhnvjf4P4"
   },
   "source": [
    "Problem 6 : Create a filter array for the 1d array. If the number is even then store True in then filter array else False\n",
    "And then filter the initial array using the filter array."
   ]
  },
  {
   "cell_type": "code",
   "execution_count": 31,
   "metadata": {
    "id": "E5Fd4ILwgPtP"
   },
   "outputs": [
    {
     "name": "stdout",
     "output_type": "stream",
     "text": [
      "Filter Array: [False  True False  True False  True False  True False  True False  True\n",
      " False  True False  True False  True False  True]\n",
      "\n",
      "New Array: [42 44 46 48 50  2  4  6  8 10]\n"
     ]
    }
   ],
   "source": [
    "\n",
    "import numpy as np\n",
    "\n",
    "arr = np.array([41, 42, 43, 44, 45, 46, 47, 48, 49, 50, 1, 2, 3, 4, 5, 6, 7, 8, 9, 10])\n",
    "#code here\n",
    "\n",
    "#this is our filter array\n",
    "filterArr = arr % 2 == 0 #if number is even then store True\n",
    "print(\"Filter Array:\", filterArr)\n",
    "\n",
    "print()\n",
    "\n",
    "newArr = arr[filterArr]\n",
    "print(\"New Array:\", newArr)"
   ]
  },
  {
   "cell_type": "markdown",
   "metadata": {
    "id": "LQOpRLpFgjHP"
   },
   "source": [
    "Problem 7 : Generate 50 random numbers and store it in numpy array and then apply the same operations in problem 6"
   ]
  },
  {
   "cell_type": "code",
   "execution_count": 46,
   "metadata": {
    "id": "dKj7fOelgiDy"
   },
   "outputs": [
    {
     "name": "stdout",
     "output_type": "stream",
     "text": [
      "Filter Arr: [ True False  True False  True False  True  True False False False False\n",
      "  True False False  True  True  True  True  True  True  True  True False\n",
      " False False False  True  True False False  True False False False  True\n",
      "  True  True  True False False False False  True False  True False False\n",
      " False False]\n",
      "\n",
      "New Array: [496 844 518  12 928 678 936 808 102 358 446 776 264 286 362 132 414 566\n",
      " 490 456 642 848 520]\n"
     ]
    }
   ],
   "source": [
    "from numpy import random\n",
    "\n",
    "#code here\n",
    "\n",
    "#generate 50 random numbers and store them\n",
    "arr = random.randint(1000, size=(50))    #random numbers into an array\n",
    "\n",
    "filterArr = arr % 2 == 0                 #generate our filter array\n",
    "print(\"Filter Arr:\", filterArr)\n",
    "\n",
    "print()\n",
    "\n",
    "newArr = arr[filterArr]\n",
    "print(\"New Array:\", newArr)              #generate our new array based on the filter array"
   ]
  },
  {
   "cell_type": "markdown",
   "metadata": {
    "id": "IBkM_-8ahAdg"
   },
   "source": [
    "Problem 8 :  Slice from the index 3 from the end to index 1 from the end\n"
   ]
  },
  {
   "cell_type": "code",
   "execution_count": 53,
   "metadata": {
    "id": "s31YDQODf2AJ"
   },
   "outputs": [
    {
     "name": "stdout",
     "output_type": "stream",
     "text": [
      "[[3 4]\n",
      " [5 6]\n",
      " [7 8]]\n"
     ]
    }
   ],
   "source": [
    "import numpy as np\n",
    "\n",
    "arr1 = np.array([[1, 2], [3, 4],[5,6],[7,8],[9,10]])\n",
    "\n",
    "#code here\n",
    "print(arr1[-4:-1])"
   ]
  },
  {
   "cell_type": "markdown",
   "metadata": {
    "id": "k9W98WVghRgX"
   },
   "source": [
    "Problem 9 : Return every two other element from index 1 to index 5:"
   ]
  },
  {
   "cell_type": "code",
   "execution_count": 48,
   "metadata": {
    "id": "ccGmSkBghiWZ"
   },
   "outputs": [
    {
     "name": "stdout",
     "output_type": "stream",
     "text": [
      "[42 44]\n"
     ]
    }
   ],
   "source": [
    "import numpy as np\n",
    "arr = np.array([41, 42, 43, 44, 45, 46, 47, 48, 49, 50, 1, 2, 3, 4, 5, 6, 7, 8, 9, 10])\n",
    "\n",
    "print(arr[1:5:2])"
   ]
  },
  {
   "cell_type": "markdown",
   "metadata": {
    "id": "-XnAKq1Jhrl_"
   },
   "source": [
    "Problem 10 : Generate a random permutation of elements of following array"
   ]
  },
  {
   "cell_type": "code",
   "execution_count": 51,
   "metadata": {
    "id": "YEz9cdUYiHXL"
   },
   "outputs": [
    {
     "name": "stdout",
     "output_type": "stream",
     "text": [
      "[47 43  3  7  6  5 42  9 49  8 44 41  2  1 45 10 48 46 50  4]\n"
     ]
    }
   ],
   "source": [
    "import numpy as np\n",
    "from numpy import random\n",
    "arr = np.array([41, 42, 43, 44, 45, 46, 47, 48, 49, 50, 1, 2, 3, 4, 5, 6, 7, 8, 9, 10])\n",
    "#code here\n",
    "newArr = random.permutation(arr)\n",
    "print(newArr)"
   ]
  }
 ],
 "metadata": {
  "colab": {
   "provenance": []
  },
  "kernelspec": {
   "display_name": "Python 3 (ipykernel)",
   "language": "python",
   "name": "python3"
  },
  "language_info": {
   "codemirror_mode": {
    "name": "ipython",
    "version": 3
   },
   "file_extension": ".py",
   "mimetype": "text/x-python",
   "name": "python",
   "nbconvert_exporter": "python",
   "pygments_lexer": "ipython3",
   "version": "3.10.12"
  }
 },
 "nbformat": 4,
 "nbformat_minor": 4
}
